{
 "cells": [
  {
   "cell_type": "code",
   "execution_count": 2,
   "metadata": {},
   "outputs": [
    {
     "name": "stderr",
     "output_type": "stream",
     "text": [
      "d:\\ProgramData\\miniconda3\\envs\\ml\\lib\\site-packages\\lightgbm\\engine.py:183: UserWarning: Found `num_iterations` in params. Will use it instead of argument\n",
      "  _log_warning(f\"Found `{alias}` in params. Will use it instead of argument\")\n"
     ]
    },
    {
     "name": "stdout",
     "output_type": "stream",
     "text": [
      "[LightGBM] [Info] This is the GPU trainer!!\n",
      "[LightGBM] [Info] Total Bins 36\n",
      "[LightGBM] [Info] Number of data points in the train set: 50, number of used features: 2\n",
      "[LightGBM] [Info] Using GPU Device: NVIDIA GeForce RTX 4050 Laptop GPU, Vendor: NVIDIA Corporation\n",
      "[LightGBM] [Info] Compiling OpenCL Kernel with 64 bins...\n",
      "[LightGBM] [Info] GPU programs have been built\n",
      "[LightGBM] [Info] Size of histogram bin entry: 8\n",
      "[LightGBM] [Info] 2 dense feature groups (0.00 MB) transferred to GPU in 0.000443 secs. 0 sparse feature groups\n",
      "[LightGBM] [Info] Start training from score 0.580000\n",
      "[LightGBM] [Warning] No further splits with positive gain, best gain: -inf\n",
      "True\n"
     ]
    }
   ],
   "source": [
    "import lightgbm\n",
    "import numpy as np\n",
    "\n",
    "\n",
    "def check_gpu_support():\n",
    "    try:\n",
    "        data = np.random.rand(50, 2)\n",
    "        label = np.random.randint(2, size=50)\n",
    "        train_data = lightgbm.Dataset(data, label=label)\n",
    "        params = {'num_iterations': 1, 'device': 'gpu'}\n",
    "        gbm = lightgbm.train(params, train_set=train_data)\n",
    "        return True\n",
    "    except Exception as e:\n",
    "        return False\n",
    "\n",
    "\n",
    "print(check_gpu_support())"
   ]
  }
 ],
 "metadata": {
  "kernelspec": {
   "display_name": "ml",
   "language": "python",
   "name": "python3"
  },
  "language_info": {
   "codemirror_mode": {
    "name": "ipython",
    "version": 3
   },
   "file_extension": ".py",
   "mimetype": "text/x-python",
   "name": "python",
   "nbconvert_exporter": "python",
   "pygments_lexer": "ipython3",
   "version": "3.10.14"
  }
 },
 "nbformat": 4,
 "nbformat_minor": 2
}
